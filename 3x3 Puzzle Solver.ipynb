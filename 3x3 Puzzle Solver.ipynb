{
 "cells": [
  {
   "cell_type": "markdown",
   "id": "46cf05fc",
   "metadata": {},
   "source": [
    "# A* 3x3 Puzzle Solver\n",
    "\n",
    "This project incorporates the A* search algorithm to solve the famous moving tile puzzle.\n",
    "\n",
    "![puzzle](https://miro.medium.com/max/1400/1*OjlGSVqTDrBOMiIR0-Bx9Q.png)\n",
    "\n",
    "We will be solving the exact puzzle above."
   ]
  },
  {
   "cell_type": "markdown",
   "id": "a997f48e",
   "metadata": {},
   "source": [
    "### Import neccessary packages"
   ]
  },
  {
   "cell_type": "code",
   "execution_count": 5,
   "id": "6ed1ccdc",
   "metadata": {},
   "outputs": [],
   "source": [
    "import heapq\n",
    "import copy\n",
    "import time"
   ]
  },
  {
   "cell_type": "markdown",
   "id": "c65f86de",
   "metadata": {},
   "source": [
    "### Heuristic Value\n",
    "An important distinction from the A* algorithm versus other search algorithm is that it uses a heuristic value. This value helps the algorithm \"know\" how close it is to the solution. A good heuristic value is one that is large but is always less than or equal to the number of moves it takes from one state to the end state. In this project, we will use the l1 norm (Manhattan Distance) of every tile to where it is supposed to be. "
   ]
  },
  {
   "cell_type": "code",
   "execution_count": 7,
   "id": "ef365cf5",
   "metadata": {},
   "outputs": [],
   "source": [
    "def get_manhattan_distance(from_state, to_state=[1, 2, 3, 4, 5, 6, 7, 8, 0]):\n",
    "    \n",
    "    goaldict = {}\n",
    "    for idx in range(len(to_state)):\n",
    "        if to_state[idx] != 0:\n",
    "            goaldict[to_state[idx]] = [idx//3, idx%3]\n",
    "    currentdict = {}\n",
    "    for idx in range(len(from_state)):\n",
    "        if from_state[idx] != 0:\n",
    "            currentdict[from_state[idx]] = [idx//3, idx%3]\n",
    "    distance = 0\n",
    "    for num in currentdict.keys():\n",
    "        ccoord = currentdict[num]\n",
    "        newcoord = goaldict[num]\n",
    "        distance += abs(ccoord[0]-newcoord[0])+abs(ccoord[1]-newcoord[1]) \n",
    "    return distance"
   ]
  },
  {
   "cell_type": "code",
   "execution_count": 14,
   "id": "567974f8",
   "metadata": {},
   "outputs": [
    {
     "data": {
      "text/plain": [
       "11"
      ]
     },
     "execution_count": 14,
     "metadata": {},
     "output_type": "execute_result"
    }
   ],
   "source": [
    "# Test with initial puzzle:\n",
    "get_manhattan_distance([4, 1, 6, 0, 3, 5, 2, 7, 8])"
   ]
  },
  {
   "cell_type": "markdown",
   "id": "50e4b7cc",
   "metadata": {},
   "source": [
    "### Successive States\n",
    "Now lets make a couple of functions to get and print (in order) the successive states of a given state along with their heuristic values."
   ]
  },
  {
   "cell_type": "code",
   "execution_count": 9,
   "id": "66e0b836",
   "metadata": {},
   "outputs": [],
   "source": [
    "def get_succ(state):\n",
    "    \n",
    "    movesdict = {\n",
    "    0: [1, 3],\n",
    "    1: [0, 2, 4], \n",
    "    2: [1, 5],\n",
    "    3: [0, 4, 6], \n",
    "    4: [1, 3, 5, 7], \n",
    "    5: [2, 4, 8], \n",
    "    6: [3, 7], \n",
    "    7: [4, 6, 8], \n",
    "    8: [5, 7]\n",
    "    }\n",
    "    succ_states = []\n",
    "    moves = movesdict[state.index(0)]\n",
    "    for move in moves:\n",
    "        state1 = copy.copy(state)    \n",
    "        state1[state.index(0)] = state1[move]\n",
    "        state1[move] = 0\n",
    "        succ_states.append(state1)\n",
    "    return sorted(succ_states)\n",
    "\n",
    "def print_succ(state):\n",
    "    \n",
    "    succ_states = get_succ(state)\n",
    "    for succ_state in succ_states:\n",
    "        print(succ_state, \"h={}\".format(get_manhattan_distance(succ_state)))"
   ]
  },
  {
   "cell_type": "code",
   "execution_count": 15,
   "id": "c3cb131e",
   "metadata": {},
   "outputs": [
    {
     "name": "stdout",
     "output_type": "stream",
     "text": [
      "[0, 1, 6, 4, 3, 5, 2, 7, 8] h=10\n",
      "[4, 1, 6, 2, 3, 5, 0, 7, 8] h=10\n",
      "[4, 1, 6, 3, 0, 5, 2, 7, 8] h=12\n"
     ]
    }
   ],
   "source": [
    "# Test with initial puzzle:\n",
    "print_succ([4, 1, 6, 0, 3, 5, 2, 7, 8])"
   ]
  },
  {
   "cell_type": "markdown",
   "id": "2a8869b5",
   "metadata": {},
   "source": [
    "### Implement A*\n",
    "Finally lets implement the algorithm given the helper functions we just created.\n",
    "NOTE: We use a heapque to order our queue by \n",
    "        \n",
    "        f(n) = heuristic value (h) + # of moves taken (g)"
   ]
  },
  {
   "cell_type": "code",
   "execution_count": 17,
   "id": "158edcad",
   "metadata": {},
   "outputs": [],
   "source": [
    "path = []\n",
    "\n",
    "#Recursive Path Finder:\n",
    "def pathfinder(nd, end):\n",
    "    \n",
    "    path.append(end)\n",
    "    if nd[str(end)][\"parent\"] == -1:\n",
    "        return path\n",
    "    else:\n",
    "        return pathfinder(nd, nd[str(end)][\"parent\"])\n",
    "\n",
    "\n",
    "#Final Solver for Given State\n",
    "def solve(state, goal_state=[1, 2, 3, 4, 5, 6, 7, 8, 0]):\n",
    "    \n",
    "    t1 = time.time()\n",
    "    pq = []\n",
    "    closed = []\n",
    "    g = 0\n",
    "    visited = []\n",
    "    openl = []\n",
    "    # 1. Place the starting node into OPEN and find its f (n) value.\n",
    "    h = get_manhattan_distance(state)\n",
    "    heapq.heappush(pq, (g+h, state, (g, h, -1)))\n",
    "    # 2. Remove the node from pq, having the smallest f (n) value. If it is a goal node, then stop and return to success.\n",
    "    while len(pq) != 0:\n",
    "        currnode = heapq.heappop(pq)\n",
    "        nodestate = currnode[1]\n",
    "        closed.append(currnode)\n",
    "        visited.append(nodestate)\n",
    "        if nodestate == goal_state:\n",
    "            break\n",
    "    # 3. Else remove the node from pq, and find all its successors.\n",
    "        else:\n",
    "            g = currnode[2][0]\n",
    "            for child in get_succ(nodestate):\n",
    "                if child not in visited and child not in openl:\n",
    "    # 4. Find the f (n) value of all the successors, place them into pq, and place the removed node into CLOSE.\n",
    "                    h = get_manhattan_distance(child)\n",
    "                    heapq.heappush(pq, (g+h+1, child, (g+1, h, nodestate)))\n",
    "                    openl.append(child)\n",
    "            #Below 2 comments used to debug \n",
    "            #print(*pq, sep='\\n')\n",
    "            #print(\"________________\")\n",
    "    if len(pq) == 0 and nodestate != goal_state:\n",
    "        print(\"FAILURE\")\n",
    "    nodedict = {}\n",
    "    for node in closed:\n",
    "        nodedict[str(node[1])] = {\n",
    "            \"h\": node[2][1], \n",
    "            \"moves\": node[2][0], \n",
    "            \"parent\": node[2][2]\n",
    "        }\n",
    "    #print(nodedict)\n",
    "    path =  []\n",
    "    output = pathfinder(nodedict, goal_state)\n",
    "    mmoves = nodedict[str(output[0])][\"moves\"]\n",
    "    output1 = output[-mmoves-1:]\n",
    "    for node in output1[::-1]:\n",
    "        print(str(node)+\" h=\"+str(nodedict[str(node)][\"h\"])+\" moves: \"+str(nodedict[str(node)][\"moves\"]))\n",
    "    t2 = time.time()\n",
    "    print(\"Time to solve: \"+str(round((t2-t1)*1000))+\" milliseconds\")"
   ]
  },
  {
   "cell_type": "markdown",
   "id": "5e952afb",
   "metadata": {},
   "source": [
    "## Now lets solve the puzzle!"
   ]
  },
  {
   "cell_type": "code",
   "execution_count": 18,
   "id": "a9a13187",
   "metadata": {},
   "outputs": [
    {
     "name": "stdout",
     "output_type": "stream",
     "text": [
      "[4, 1, 6, 0, 3, 5, 2, 7, 8] h=11 moves: 0\n",
      "[0, 1, 6, 4, 3, 5, 2, 7, 8] h=10 moves: 1\n",
      "[1, 0, 6, 4, 3, 5, 2, 7, 8] h=9 moves: 2\n",
      "[1, 3, 6, 4, 0, 5, 2, 7, 8] h=8 moves: 3\n",
      "[1, 3, 6, 4, 5, 0, 2, 7, 8] h=7 moves: 4\n",
      "[1, 3, 0, 4, 5, 6, 2, 7, 8] h=6 moves: 5\n",
      "[1, 0, 3, 4, 5, 6, 2, 7, 8] h=5 moves: 6\n",
      "[0, 1, 3, 4, 5, 6, 2, 7, 8] h=6 moves: 7\n",
      "[4, 1, 3, 0, 5, 6, 2, 7, 8] h=7 moves: 8\n",
      "[4, 1, 3, 2, 5, 6, 0, 7, 8] h=6 moves: 9\n",
      "[4, 1, 3, 2, 5, 6, 7, 0, 8] h=5 moves: 10\n",
      "[4, 1, 3, 2, 0, 6, 7, 5, 8] h=6 moves: 11\n",
      "[4, 1, 3, 0, 2, 6, 7, 5, 8] h=5 moves: 12\n",
      "[0, 1, 3, 4, 2, 6, 7, 5, 8] h=4 moves: 13\n",
      "[1, 0, 3, 4, 2, 6, 7, 5, 8] h=3 moves: 14\n",
      "[1, 2, 3, 4, 0, 6, 7, 5, 8] h=2 moves: 15\n",
      "[1, 2, 3, 4, 5, 6, 7, 0, 8] h=1 moves: 16\n",
      "[1, 2, 3, 4, 5, 6, 7, 8, 0] h=0 moves: 17\n",
      "Time to solve: 17 milliseconds\n"
     ]
    }
   ],
   "source": [
    "solve([4, 1, 6, 0, 3, 5, 2, 7, 8])"
   ]
  },
  {
   "cell_type": "markdown",
   "id": "ccfb55c5",
   "metadata": {},
   "source": [
    "## Conclusion\n",
    "The A* algorithm seems to have found the shortest path to the solution state and it only took 17 moves and was solved very quickly. If we had used a different search algorithm which was uninformed, BFS for example, it would've taken much longer to reach the solution as we'd be \"shooting in the dark\". In conclusion, the A* search algorithm is a useful tool when we have a specific goal state as well as a good heuristic function to speed up our search. "
   ]
  }
 ],
 "metadata": {
  "kernelspec": {
   "display_name": "Python 3",
   "language": "python",
   "name": "python3"
  },
  "language_info": {
   "codemirror_mode": {
    "name": "ipython",
    "version": 3
   },
   "file_extension": ".py",
   "mimetype": "text/x-python",
   "name": "python",
   "nbconvert_exporter": "python",
   "pygments_lexer": "ipython3",
   "version": "3.8.8"
  }
 },
 "nbformat": 4,
 "nbformat_minor": 5
}
